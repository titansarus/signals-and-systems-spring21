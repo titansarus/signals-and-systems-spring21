{
 "cells": [
  {
   "cell_type": "markdown",
   "metadata": {
    "direction": "rtl"
   },
   "source": [
    "<div style=\"direction:rtl;line-height:300%;\">\n",
    "\t<font face=\"XB Zar\" size=5>\n",
    "\t\t<div align=center>\n",
    "\t\t\t<font face=\"IranNastaliq\" size=30>\n",
    "\t\t\t\t<p></p>\n",
    "\t\t\t\t<p></p>\n",
    "به نام خدا\n",
    "\t\t\t\t<p></p>\n",
    "\t\t\t</font>\n",
    "\t\t\t<font color=#FF7500>\n",
    "دانشگاه صنعتی شریف - دانشکده مهندسی کامپیوتر\n",
    "            </font>\n",
    "\t\t\t<p></p>\n",
    "\t\t\t<font color=blue>\n",
    "سیگنال‌ها و سیستم‌ها - جناب آقای دکتر منظوری شلمانی\n",
    "            </font>\n",
    "\t\t\t<br />\n",
    "\t\t\t<br />\n",
    "نیمسال دوم 00-99\n",
    "\t\t</div>\n",
    "\t\t<hr/>\n",
    "\t\t<div align=center>\n",
    "\t\t    <font color=red size=6>\n",
    "\t\t\t    <br />\n",
    "تمرین دوم\n",
    "            \t<br/>\n",
    "\t\t\t</font>\n",
    "نام و نام خانوادگی: امیرمهدی نامجو\n",
    "\t\t\t<br/><br/>\n",
    "شماره دانشجویی: 97107212\n",
    "                <br/>\n",
    "        </style>\n",
    "\t</font>\n",
    "</div>"
   ]
  },
  {
   "cell_type": "markdown",
   "metadata": {
    "direction": "ltr"
   },
   "source": [
    "## Q5"
   ]
  },
  {
   "cell_type": "markdown",
   "metadata": {},
   "source": [
    "<div style=\"direction:rtl\">\n",
    "ابتدا کتابخانه sympy را ایمپورت می‌کنیم</div>"
   ]
  },
  {
   "cell_type": "code",
   "execution_count": 1,
   "metadata": {},
   "outputs": [],
   "source": [
    "import sympy\n",
    "from sympy.integrals.transforms import laplace_transform\n",
    "from sympy.integrals.transforms import inverse_laplace_transform\n",
    "from sympy import *\n",
    "init_printing(use_latex='mathjax')\n",
    "\n",
    "from IPython.display import display\n",
    "\n"
   ]
  },
  {
   "cell_type": "markdown",
   "metadata": {},
   "source": [
    "<div style=\"direction:rtl\">\n",
    "سپس نمادها را تعریف می‌کنیم\n",
    "</div>"
   ]
  },
  {
   "cell_type": "code",
   "execution_count": 2,
   "metadata": {},
   "outputs": [
    {
     "name": "stdout",
     "output_type": "stream",
     "text": [
      "1.8\n"
     ]
    }
   ],
   "source": [
    "t = sympy.Symbol(\"t\")\n",
    "x = sympy.Function(\"x\")\n",
    "X = sympy.Function(\"X\")\n",
    "g = sympy.Function(\"g\")\n",
    "s = sympy.Symbol(\"s\")\n",
    "\n",
    "print(sympy.__version__)\n"
   ]
  },
  {
   "cell_type": "markdown",
   "metadata": {},
   "source": [
    "<div style=\"direction:rtl\">\n",
    "لاپلاس سمت راست را می‌توان به کمک Sympy بدست آورد. برای لاپلاس سمت چپ، Sympy به تنهایی کافی نیست و باید از قواعد لاپلاس گیری کمک بگیریم تا خودمان معادله را تشکیل بدهیم.  \n",
    "یعنی به طور خاص لاپلاس گرفتن برای مشتق با شرایط اولیه هنوز به خوبی در این کتابخانه پیاده‌سازی نشده است و صفحه Issue خاصی برای آن در گیتهاب این کتابخانه وجود دارد که هنوز باز است و مشکل آن برطرف نشده است. \n",
    "</div>\n",
    "\n",
    "[Sympy Github](https://github.com/sympy/sympy/issues/7219)"
   ]
  },
  {
   "cell_type": "code",
   "execution_count": 3,
   "metadata": {},
   "outputs": [
    {
     "data": {
      "text/plain": [
       "'right_hand:'"
      ]
     },
     "metadata": {},
     "output_type": "display_data"
    },
    {
     "data": {
      "text/latex": [
       "$\\displaystyle \\left( 4 + \\frac{6}{s}, \\  0, \\  \\text{True}\\right)$"
      ],
      "text/plain": [
       "⎛    6         ⎞\n",
       "⎜4 + ─, 0, True⎟\n",
       "⎝    s         ⎠"
      ]
     },
     "metadata": {},
     "output_type": "display_data"
    },
    {
     "name": "stdout",
     "output_type": "stream",
     "text": [
      "Equation:\n"
     ]
    },
    {
     "data": {
      "text/latex": [
       "$\\displaystyle 3 s^{2} X{\\left(s \\right)} + 30 s X{\\left(s \\right)} - 12 s + 63 X{\\left(s \\right)} - 141 = 4 + \\frac{6}{s}$"
      ],
      "text/plain": [
       "   2                                               6\n",
       "3⋅s ⋅X(s) + 30⋅s⋅X(s) - 12⋅s + 63⋅X(s) - 141 = 4 + ─\n",
       "                                                   s"
      ]
     },
     "metadata": {},
     "output_type": "display_data"
    }
   ],
   "source": [
    "g =sympy.functions.special.delta_functions.Heaviside(t)\n",
    "\n",
    "\n",
    "\n",
    "right_hand = (laplace_transform(4*diff(g,t)+ 6*g , t , s))\n",
    "\n",
    "\n",
    "right_hand = (right_hand[0].subs(Heaviside(0), 0) , right_hand[1] , right_hand[2])\n",
    "#the line above is done because in new versions of SYMPY, Heaviside(0) is undifined and appears as an object in our formula.\n",
    "\n",
    "display(\"right_hand:\",right_hand)\n",
    "\n",
    "x0 = 4\n",
    "xdot0 = 7\n",
    "\n",
    "left_hand= (s**2 * X(s)-s*x0-xdot0)+30 * (s*X(s)-x0)+ 63 * X(s)\n",
    "\n",
    "ODE = Eq(3*(s**2 * X(s)-s*x0-xdot0)+30 * (s*X(s)-x0)+ 63 * X(s) , right_hand[0] )\n",
    "\n",
    "print(\"Equation:\")\n",
    "display(ODE)\n"
   ]
  },
  {
   "cell_type": "markdown",
   "metadata": {},
   "source": [
    "<div style=\"direction:rtl\">\n",
    "معادله را حل می‌کنیم.\n",
    "</div>"
   ]
  },
  {
   "cell_type": "code",
   "execution_count": 4,
   "metadata": {},
   "outputs": [
    {
     "data": {
      "text/latex": [
       "$\\displaystyle \\left[ \\frac{12 s^{2} + 145 s + 6}{3 s \\left(s^{2} + 10 s + 21\\right)}\\right]$"
      ],
      "text/plain": [
       "⎡     2              ⎤\n",
       "⎢ 12⋅s  + 145⋅s + 6  ⎥\n",
       "⎢────────────────────⎥\n",
       "⎢    ⎛ 2            ⎞⎥\n",
       "⎣3⋅s⋅⎝s  + 10⋅s + 21⎠⎦"
      ]
     },
     "metadata": {},
     "output_type": "display_data"
    }
   ],
   "source": [
    "answer =solve(ODE  , X(s))\n",
    "display(answer)"
   ]
  },
  {
   "cell_type": "markdown",
   "metadata": {},
   "source": [
    "<div style=\"direction:rtl\">\n",
    "تبدیل لاپلاس معکوس را محاسبه می‌کنیم\n",
    "</div>"
   ]
  },
  {
   "cell_type": "code",
   "execution_count": 5,
   "metadata": {},
   "outputs": [
    {
     "data": {
      "text/latex": [
       "$\\displaystyle \\frac{2 \\theta\\left(t\\right)}{21} + \\frac{107 e^{- 3 t} \\theta\\left(t\\right)}{12} - \\frac{421 e^{- 7 t} \\theta\\left(t\\right)}{84}$"
      ],
      "text/plain": [
       "              -3⋅t             -7⋅t     \n",
       "2⋅θ(t)   107⋅ℯ    ⋅θ(t)   421⋅ℯ    ⋅θ(t)\n",
       "────── + ────────────── - ──────────────\n",
       "  21           12               84      "
      ]
     },
     "execution_count": 5,
     "metadata": {},
     "output_type": "execute_result"
    }
   ],
   "source": [
    "inverse_laplace_transform(answer[0] , s ,t).expand()"
   ]
  },
  {
   "cell_type": "markdown",
   "metadata": {},
   "source": [
    "<div style=\"direction:rtl\">\n",
    "در عبارات بالا\n",
    "    $\\theta(t)$\n",
    "    همان تابع پله است\n",
    "</div>"
   ]
  },
  {
   "cell_type": "markdown",
   "metadata": {},
   "source": [
    "<div style=\"direction:rtl\">\n",
    "حل تحلیلی و دستی معادله در PDF ارسالی موجود است\n",
    "\n",
    "</div>"
   ]
  }
 ],
 "metadata": {
  "kernelspec": {
   "display_name": "Python 3",
   "language": "python",
   "name": "python3"
  },
  "language_info": {
   "codemirror_mode": {
    "name": "ipython",
    "version": 3
   },
   "file_extension": ".py",
   "mimetype": "text/x-python",
   "name": "python",
   "nbconvert_exporter": "python",
   "pygments_lexer": "ipython3",
   "version": "3.9.2"
  },
  "latex_envs": {
   "LaTeX_envs_menu_present": true,
   "autoclose": false,
   "autocomplete": true,
   "bibliofile": "biblio.bib",
   "cite_by": "apalike",
   "current_citInitial": 1,
   "eqLabelWithNumbers": true,
   "eqNumInitial": 1,
   "hotkeys": {
    "equation": "Ctrl-E",
    "itemize": "Ctrl-I"
   },
   "labels_anchors": false,
   "latex_user_defs": false,
   "report_style_numbering": false,
   "user_envs_cfg": false
  },
  "toc": {
   "base_numbering": 1,
   "nav_menu": {},
   "number_sections": true,
   "sideBar": true,
   "skip_h1_title": false,
   "title_cell": "Table of Contents",
   "title_sidebar": "Contents",
   "toc_cell": false,
   "toc_position": {},
   "toc_section_display": true,
   "toc_window_display": false
  },
  "varInspector": {
   "cols": {
    "lenName": 16,
    "lenType": 16,
    "lenVar": 40
   },
   "kernels_config": {
    "python": {
     "delete_cmd_postfix": "",
     "delete_cmd_prefix": "del ",
     "library": "var_list.py",
     "varRefreshCmd": "print(var_dic_list())"
    },
    "r": {
     "delete_cmd_postfix": ") ",
     "delete_cmd_prefix": "rm(",
     "library": "var_list.r",
     "varRefreshCmd": "cat(var_dic_list()) "
    }
   },
   "types_to_exclude": [
    "module",
    "function",
    "builtin_function_or_method",
    "instance",
    "_Feature"
   ],
   "window_display": false
  }
 },
 "nbformat": 4,
 "nbformat_minor": 2
}

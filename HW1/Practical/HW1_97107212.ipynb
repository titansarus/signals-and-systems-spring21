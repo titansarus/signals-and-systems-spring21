{
 "cells": [
  {
   "cell_type": "markdown",
   "metadata": {
    "direction": "rtl"
   },
   "source": [
    "<div style=\"direction:rtl;line-height:300%;\">\n",
    "\t<font face=\"XB Zar\" size=5>\n",
    "\t\t<div align=center>\n",
    "\t\t\t<font face=\"IranNastaliq\" size=30>\n",
    "\t\t\t\t<p></p>\n",
    "\t\t\t\t<p></p>\n",
    "به نام خدا\n",
    "\t\t\t\t<p></p>\n",
    "\t\t\t</font>\n",
    "\t\t\t<font color=#FF7500>\n",
    "دانشگاه صنعتی شریف - دانشکده مهندسی کامپیوتر\n",
    "            </font>\n",
    "\t\t\t<p></p>\n",
    "\t\t\t<font color=blue>\n",
    "سیگنال‌ها و سیستم‌ها - جناب آقای دکتر منظوری شلمانی\n",
    "            </font>\n",
    "\t\t\t<br />\n",
    "\t\t\t<br />\n",
    "زمستان ۱۳۹۹\n",
    "\t\t</div>\n",
    "\t\t<hr/>\n",
    "\t\t<div align=center>\n",
    "\t\t    <font color=red size=6>\n",
    "\t\t\t    <br />\n",
    "تمرین اول\n",
    "            \t<br/>\n",
    "\t\t\t</font>\n",
    "نام و نام خانوادگی: امیرمهدی نامجو\n",
    "\t\t\t<br/><br/>\n",
    "شماره دانشجویی: 97107212\n",
    "                <br/>\n",
    "        </style>\n",
    "\t</font>\n",
    "</div>"
   ]
  },
  {
   "cell_type": "markdown",
   "metadata": {
    "direction": "ltr"
   },
   "source": [
    "# Q8"
   ]
  },
  {
   "cell_type": "markdown",
   "metadata": {
    "direction": "rtl"
   },
   "source": [
    "ابتدا توابع گسسته-زمان را پیاده‌سازی می‌کنیم."
   ]
  },
  {
   "cell_type": "code",
   "execution_count": 23,
   "metadata": {},
   "outputs": [],
   "source": [
    "def unit_impulse_discrete(n , right_shift = 0):\n",
    "    if n-right_shift == 0:\n",
    "        return 1\n",
    "    return 0\n",
    "\n",
    "def unit_step_discrete(n , right_shift = 0):\n",
    "    if n- right_shift >=0:\n",
    "        return 1\n",
    "    return 0\n",
    "\n",
    "def unit_ramp_discrete(n , right_shift = 0):\n",
    "    if n - right_shift >=0:\n",
    "        return n-right_shift\n",
    "    return 0"
   ]
  },
  {
   "cell_type": "markdown",
   "metadata": {
    "direction": "rtl"
   },
   "source": [
    "در بالا در اصل توابع $\\delta(n+right\\_shift)$ و $u(n+right\\_shift)$ و $ramp(n+right\\_shift)$ را پیاده‌سازی کرده‌ایم. n متغیر اصلی است و right_shift هم بیانگر مقدار شیفت به راست است که ممکن است نیاز بشود ولی در صورت عدم استفاده صفر در نظر گرفته شده است. در زیر تست این توابع با شیفت یک واحد به راست را مشاهده می‌کنید."
   ]
  },
  {
   "cell_type": "code",
   "execution_count": 24,
   "metadata": {},
   "outputs": [
    {
     "name": "stdout",
     "output_type": "stream",
     "text": [
      "[-10, -9, -8, -7, -6, -5, -4, -3, -2, -1, 0, 1, 2, 3, 4, 5, 6, 7, 8, 9]\n",
      "[0, 0, 0, 0, 0, 0, 0, 0, 0, 0, 0, 1, 0, 0, 0, 0, 0, 0, 0, 0]\n",
      "[0, 0, 0, 0, 0, 0, 0, 0, 0, 0, 0, 1, 1, 1, 1, 1, 1, 1, 1, 1]\n",
      "[0, 0, 0, 0, 0, 0, 0, 0, 0, 0, 0, 0, 1, 2, 3, 4, 5, 6, 7, 8]\n"
     ]
    }
   ],
   "source": [
    "test_data = list(range(-10,10 , 1))\n",
    "\n",
    "uid = list(map(lambda x: unit_impulse_discrete(x,1) , test_data))\n",
    "usd = list(map(lambda x: unit_step_discrete(x,1) , test_data))\n",
    "urd = list(map(lambda x: unit_ramp_discrete(x,1) , test_data))\n",
    "\n",
    "print(test_data)\n",
    "print(uid)\n",
    "print(usd)\n",
    "print(urd)\n"
   ]
  },
  {
   "cell_type": "markdown",
   "metadata": {
    "direction": "rtl"
   },
   "source": [
    "پیاده‌سازی نسخه پیوسته برای پله و رمپ شبیه حالت گسسته است. برای ضربه واحد، یک حد فاصل خیلی کوچک در حد $10^{-6}$ در نظر میگیریم که در اصل این همان دلتای کوچکی است که در تعریف استفاده می‌شود. در بازه بین $-10^{-6}$ تا $10^{-6}$ مقدار $5 \\times 10^{5}$ را به تابع اختصاص می‌دهیم. در خارج این بازه تابع صفر است. به این شکل شرط مربوط به مساحت هم تا حد خوبی تامین می‌شود. "
   ]
  },
  {
   "cell_type": "code",
   "execution_count": 98,
   "metadata": {},
   "outputs": [],
   "source": [
    "def unit_impulse_cont(n , right_shift = 0):\n",
    "    x = n - right_shift\n",
    "    TOLERANCE = 1e-6\n",
    "    LARGE_VALUE = 1/(2*TOLERANCE)\n",
    "    if x <= TOLERANCE and x>= -TOLERANCE:\n",
    "        return LARGE_VALUE\n",
    "    return 0\n",
    "\n",
    "\n",
    "def unit_step_cont(n , right_shift = 0):\n",
    "    if n- right_shift >=0:\n",
    "        return 1\n",
    "    return 0\n",
    "\n",
    "def unit_ramp_cont(n , right_shift = 0):\n",
    "    if n - right_shift >=0:\n",
    "        return n-right_shift\n",
    "    return 0"
   ]
  },
  {
   "cell_type": "markdown",
   "metadata": {
    "direction": "rtl"
   },
   "source": [
    "مشابه قسمت قبل تستی هم روی توابع انجام می‌دهیم"
   ]
  },
  {
   "cell_type": "code",
   "execution_count": 107,
   "metadata": {},
   "outputs": [
    {
     "name": "stdout",
     "output_type": "stream",
     "text": [
      "[-1.0, -0.9, -0.8, -0.7, -0.6, -0.5, -0.4, -0.3, -0.2, -0.1, 0.0, 0.1, 0.2, 0.3, 0.4, 0.5, 0.6, 0.7, 0.8, 0.9, 1.0]\n",
      "[0, 0, 0, 0, 0, 0, 0, 0, 0, 0, 500000.0, 0, 0, 0, 0, 0, 0, 0, 0, 0]\n",
      "[0, 0, 0, 0, 0, 0, 0, 0, 0, 0, 1, 1, 1, 1, 1, 1, 1, 1, 1, 1]\n",
      "[0, 0, 0, 0, 0, 0, 0, 0, 0, 0, 0, 1, 2, 3, 4, 5, 6, 7, 8, 9]\n"
     ]
    }
   ],
   "source": [
    "test_data_2 = list(map(lambda x: x/10 , list(range(-10,11 , 1))))\n",
    "\n",
    "uic = list(map(lambda x: unit_impulse_cont(x,0) , test_data))\n",
    "usc = list(map(lambda x: unit_step_cont(x,0) , test_data))\n",
    "urc = list(map(lambda x: unit_ramp_cont(x,0) , test_data))\n",
    "\n",
    "\n",
    "print(test_data_2)\n",
    "print(uic)\n",
    "print(usc)\n",
    "print(urc)\n"
   ]
  },
  {
   "cell_type": "markdown",
   "metadata": {},
   "source": [
    "# Q9"
   ]
  },
  {
   "cell_type": "markdown",
   "metadata": {},
   "source": [
    "## A"
   ]
  },
  {
   "cell_type": "markdown",
   "metadata": {
    "direction": "rtl"
   },
   "source": [
    "ابتدا تابع گفته شده را پیاده‌سازی می‌کنیم."
   ]
  },
  {
   "cell_type": "code",
   "execution_count": 106,
   "metadata": {},
   "outputs": [],
   "source": [
    "def func(t):\n",
    "    if t == -2:\n",
    "        return -1\n",
    "    elif t>-2 and t<= -1:\n",
    "        return t+1\n",
    "    elif t>-1 and t<=0:\n",
    "        return 1\n",
    "    elif t>0 and t<=1:\n",
    "        return 2\n",
    "    elif t>1 and t<=2:\n",
    "        return 2-t\n",
    "    else:\n",
    "        raise ValueError(\"Invalid Argument\")\n",
    "        "
   ]
  },
  {
   "cell_type": "markdown",
   "metadata": {
    "direction": "rtl"
   },
   "source": [
    "حال تابع را رسم می‌کنیم. ابتدا یک تابع کمکی برای رسم ایجاد کرده‌ایم که صرفا داده‌ها و عنوان هر محور را ورودی گرفته و به شکل تمیز آن را رسم کند. سپس از آن استفاده کرده‌ایم."
   ]
  },
  {
   "cell_type": "code",
   "execution_count": 105,
   "metadata": {
    "scrolled": true
   },
   "outputs": [
    {
     "data": {
      "image/png": "[encoded data removed]",
      "text/plain": [
       "<Figure size 432x288 with 1 Axes>"
      ]
     },
     "metadata": {
      "needs_background": "light"
     },
     "output_type": "display_data"
    }
   ],
   "source": [
    "import numpy as np\n",
    "import matplotlib.pyplot as plt\n",
    "\n",
    "def plotter(x , y , x_label = \"t\" , y_label = \"x(t)\"):\n",
    "    fig = plt.figure()\n",
    "    ax = fig.add_subplot(1, 1, 1)\n",
    "    ax.grid(True)\n",
    "    ax.spines['left'].set_position('zero')\n",
    "    ax.spines['right'].set_color('none')\n",
    "    ax.spines['bottom'].set_position('zero')\n",
    "    ax.spines['top'].set_color('none')\n",
    "    ax.xaxis.set_ticks_position('bottom')\n",
    "    ax.yaxis.set_ticks_position('left')\n",
    "    ax.set_ylabel(y_label,y=1 , rotation=0)\n",
    "    ax.set_xlabel(x_label,x=1)\n",
    "    \n",
    "    ax.set_xlim(np.min(x) , np.max(x))\n",
    "\n",
    "    plt.plot(x , y)\n",
    "\n",
    "    plt.show()\n",
    "\n",
    "COUNT = 1000000\n",
    "t_data = np.linspace(-2,2,COUNT , dtype = np.float64)\n",
    "x_data = np.fromiter((func(i) for i in t_data), t_data.dtype)\n",
    "\n",
    "plotter(t_data , x_data)\n",
    "\n",
    "\n",
    "\n",
    "\n"
   ]
  },
  {
   "cell_type": "markdown",
   "metadata": {},
   "source": [
    "## B"
   ]
  },
  {
   "cell_type": "markdown",
   "metadata": {
    "direction": "rtl"
   },
   "source": [
    "توابع هر قسمت را ابتدا با نام‌های f1,f2,f3,f4 به کمک lambda و تابع‌های از پیش تعریف شده، تعریف کرده و سپس رسم می‌کنیم."
   ]
  },
  {
   "cell_type": "code",
   "execution_count": 104,
   "metadata": {},
   "outputs": [],
   "source": [
    "f1 = lambda t: func(2-t)\n",
    "f2 = lambda t: func(4-t/2)\n",
    "f3 = lambda t: (func(t) + func(-t))*unit_step_cont(t)\n",
    "f4 = lambda t: func(t)* (unit_impulse_cont(t ,-3/2) - unit_impulse_cont(t ,3/2))"
   ]
  },
  {
   "cell_type": "code",
   "execution_count": 103,
   "metadata": {},
   "outputs": [
    {
     "data": {
      "image/png": "[encoded data removed]",
      "text/plain": [
       "<Figure size 432x288 with 1 Axes>"
      ]
     },
     "metadata": {
      "needs_background": "light"
     },
     "output_type": "display_data"
    }
   ],
   "source": [
    "#1\n",
    "COUNT = 1000000\n",
    "t_data = np.linspace(0,4,COUNT , dtype = np.float64)\n",
    "x_data = np.fromiter((f1(i) for i in t_data), t_data.dtype)\n",
    "\n",
    "plotter(t_data , x_data , y_label = r\"$x(2-t)$\")"
   ]
  },
  {
   "cell_type": "code",
   "execution_count": 102,
   "metadata": {},
   "outputs": [
    {
     "data": {
      "image/png": "[encoded data removed]",
      "text/plain": [
       "<Figure size 432x288 with 1 Axes>"
      ]
     },
     "metadata": {
      "needs_background": "light"
     },
     "output_type": "display_data"
    }
   ],
   "source": [
    "#2\n",
    "COUNT = 1000000\n",
    "t_data = np.linspace(4,12,COUNT , dtype = np.float64)\n",
    "x_data = np.fromiter((f2(i) for i in t_data), t_data.dtype)\n",
    "\n",
    "plotter(t_data , x_data , y_label = r\"$x(4-\\frac{t}{2})$\")"
   ]
  },
  {
   "cell_type": "code",
   "execution_count": 108,
   "metadata": {
    "scrolled": true
   },
   "outputs": [
    {
     "data": {
      "image/png": "[encoded data removed]",
      "text/plain": [
       "<Figure size 432x288 with 1 Axes>"
      ]
     },
     "metadata": {
      "needs_background": "light"
     },
     "output_type": "display_data"
    }
   ],
   "source": [
    "#3\n",
    "COUNT = 1000000\n",
    "t_data = np.linspace(-2,2,COUNT , dtype = np.float64)\n",
    "x_data = np.fromiter((f3(i) for i in t_data), t_data.dtype)\n",
    "\n",
    "plotter(t_data , x_data , y_label = r\"$\\left[x(t) + x(-t)\\right] u(t)$\")"
   ]
  },
  {
   "cell_type": "code",
   "execution_count": 109,
   "metadata": {},
   "outputs": [
    {
     "data": {
      "image/png": "[encoded data removed]",
      "text/plain": [
       "<Figure size 432x288 with 1 Axes>"
      ]
     },
     "metadata": {
      "needs_background": "light"
     },
     "output_type": "display_data"
    }
   ],
   "source": [
    "#3\n",
    "COUNT = 1000000\n",
    "t_data = np.linspace(-2,2,COUNT , dtype = np.float64)\n",
    "x_data = np.fromiter((f4(i) for i in t_data), t_data.dtype)\n",
    "\n",
    "\n",
    "plotter(t_data , x_data , y_label = r\"$x(t)\\left[ \\delta(t + \\frac{3}{2}) - \\delta(t - \\frac{3}{2}) \\right]$\")"
   ]
  }
 ],
 "metadata": {
  "kernelspec": {
   "display_name": "Python 3",
   "language": "python",
   "name": "python3"
  },
  "language_info": {
   "codemirror_mode": {
    "name": "ipython",
    "version": 3
   },
   "file_extension": ".py",
   "mimetype": "text/x-python",
   "name": "python",
   "nbconvert_exporter": "python",
   "pygments_lexer": "ipython3",
   "version": "3.9.2"
  },
  "latex_envs": {
   "LaTeX_envs_menu_present": true,
   "autoclose": false,
   "autocomplete": true,
   "bibliofile": "biblio.bib",
   "cite_by": "apalike",
   "current_citInitial": 1,
   "eqLabelWithNumbers": true,
   "eqNumInitial": 1,
   "hotkeys": {
    "equation": "Ctrl-E",
    "itemize": "Ctrl-I"
   },
   "labels_anchors": false,
   "latex_user_defs": false,
   "report_style_numbering": false,
   "user_envs_cfg": false
  },
  "toc": {
   "base_numbering": 1,
   "nav_menu": {},
   "number_sections": true,
   "sideBar": true,
   "skip_h1_title": false,
   "title_cell": "Table of Contents",
   "title_sidebar": "Contents",
   "toc_cell": false,
   "toc_position": {},
   "toc_section_display": true,
   "toc_window_display": false
  },
  "varInspector": {
   "cols": {
    "lenName": 16,
    "lenType": 16,
    "lenVar": 40
   },
   "kernels_config": {
    "python": {
     "delete_cmd_postfix": "",
     "delete_cmd_prefix": "del ",
     "library": "var_list.py",
     "varRefreshCmd": "print(var_dic_list())"
    },
    "r": {
     "delete_cmd_postfix": ") ",
     "delete_cmd_prefix": "rm(",
     "library": "var_list.r",
     "varRefreshCmd": "cat(var_dic_list()) "
    }
   },
   "types_to_exclude": [
    "module",
    "function",
    "builtin_function_or_method",
    "instance",
    "_Feature"
   ],
   "window_display": false
  }
 },
 "nbformat": 4,
 "nbformat_minor": 2
}
